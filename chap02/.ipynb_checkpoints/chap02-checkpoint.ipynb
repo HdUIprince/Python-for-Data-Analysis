{
 "cells": [
  {
   "cell_type": "markdown",
   "metadata": {},
   "source": [
    "# <center>Python语言基础、Ipython及Jupyter Notebook</center>"
   ]
  },
  {
   "cell_type": "markdown",
   "metadata": {
    "heading_collapsed": true
   },
   "source": [
    "## Python解释器"
   ]
  },
  {
   "cell_type": "markdown",
   "metadata": {
    "hidden": true
   },
   "source": [
    "- Python是一种解释性语言。Python解释器通过一次执行一条语句来运行程序、\n",
    "- exit()或者Ctrl+D退出\n",
    "- 推荐使用IPython或者Jupyter notebook\n",
    "- IPython中使用`%run`命令运行程序"
   ]
  },
  {
   "cell_type": "markdown",
   "metadata": {},
   "source": [
    "## IPython基础"
   ]
  },
  {
   "cell_type": "markdown",
   "metadata": {
    "heading_collapsed": true
   },
   "source": [
    "### 运行IPython命令行"
   ]
  },
  {
   "cell_type": "markdown",
   "metadata": {
    "hidden": true
   },
   "source": [
    "```python\n",
    "Python 3.6.5 |Anaconda, Inc.| (default, Mar 29 2018, 13:32:41) [MSC v.1900 64 bit (AMD64)]\n",
    "Type 'copyright', 'credits' or 'license' for more information\n",
    "IPython 6.4.0 -- An enhanced Interactive Python. Type '?' for help.\n",
    "\n",
    "In [1]:\n",
    "```"
   ]
  },
  {
   "cell_type": "code",
   "execution_count": 6,
   "metadata": {
    "hidden": true
   },
   "outputs": [
    {
     "data": {
      "text/plain": [
       "5"
      ]
     },
     "execution_count": 6,
     "metadata": {},
     "output_type": "execute_result"
    }
   ],
   "source": [
    "a = 5\n",
    "a"
   ]
  },
  {
   "cell_type": "code",
   "execution_count": 5,
   "metadata": {
    "hidden": true
   },
   "outputs": [
    {
     "data": {
      "text/plain": [
       "{0: -0.5674396424169679,\n",
       " 1: 0.19050981699462938,\n",
       " 2: -2.0149446135013487,\n",
       " 3: 1.5352032518130372,\n",
       " 4: 0.642189294281483,\n",
       " 5: 0.00028053900205991876,\n",
       " 6: 0.15282591190295522}"
      ]
     },
     "execution_count": 5,
     "metadata": {},
     "output_type": "execute_result"
    }
   ],
   "source": [
    "import numpy as np\n",
    "data = {i:np.random.randn() for i in range(7)}\n",
    "data"
   ]
  },
  {
   "cell_type": "markdown",
   "metadata": {
    "heading_collapsed": true
   },
   "source": [
    "### 运行Jupyter Notebook"
   ]
  },
  {
   "cell_type": "markdown",
   "metadata": {
    "hidden": true
   },
   "source": [
    "- 在命令行输入`jupyter notebook`即可"
   ]
  },
  {
   "cell_type": "markdown",
   "metadata": {
    "heading_collapsed": true
   },
   "source": [
    "### Tab键补全"
   ]
  },
  {
   "cell_type": "markdown",
   "metadata": {
    "hidden": true
   },
   "source": [
    "- 在命令行输入表达式时，按下`Tab`可以为任何变量(对象、函数)搜索命名空间  \n",
    "- IPython中可以，Jupyter Notebook中需要另行设置"
   ]
  },
  {
   "cell_type": "code",
   "execution_count": 7,
   "metadata": {
    "hidden": true
   },
   "outputs": [
    {
     "data": {
      "text/plain": [
       "27"
      ]
     },
     "execution_count": 7,
     "metadata": {},
     "output_type": "execute_result"
    }
   ],
   "source": [
    "an_apple = 27\n",
    "an_example = 42\n",
    "an_apple"
   ]
  },
  {
   "cell_type": "code",
   "execution_count": 7,
   "metadata": {
    "hidden": true
   },
   "outputs": [],
   "source": [
    "b = [1,2,3]\n",
    "b.append(4)"
   ]
  },
  {
   "cell_type": "code",
   "execution_count": 11,
   "metadata": {
    "hidden": true
   },
   "outputs": [
    {
     "data": {
      "text/plain": [
       "datetime.date"
      ]
     },
     "execution_count": 11,
     "metadata": {},
     "output_type": "execute_result"
    }
   ],
   "source": [
    "import datetime \n",
    "datetime.date"
   ]
  },
  {
   "cell_type": "markdown",
   "metadata": {
    "hidden": true
   },
   "source": [
    "- Tab键在上下文场景中同样适用，输入任意路径时按下`Tab`键建表补全计算机文件系统中的匹配内容。\n",
    "- 与%run命令搭配使用\n",
    "- 函数的关键字参数中节约时间"
   ]
  },
  {
   "cell_type": "markdown",
   "metadata": {},
   "source": [
    "### 内省"
   ]
  },
  {
   "cell_type": "markdown",
   "metadata": {},
   "source": [
    "在一个变量名前后使用问号(?)查看该对象的概要信息。  \n",
    "IPython和Jupyter Notebook均显示  \n",
    "这就是对象内省，如果对象是一个函数或者实例方法且在文档中已经写好，则文档字符串会显示出来。"
   ]
  },
  {
   "cell_type": "code",
   "execution_count": 12,
   "metadata": {},
   "outputs": [],
   "source": [
    "b?"
   ]
  },
  {
   "cell_type": "code",
   "execution_count": 13,
   "metadata": {},
   "outputs": [],
   "source": [
    "?print"
   ]
  },
  {
   "cell_type": "code",
   "execution_count": 15,
   "metadata": {
    "code_folding": [
     0
    ]
   },
   "outputs": [],
   "source": [
    "def add_numbers(a, b):\n",
    "    \"\"\"\n",
    "    Add two numbers together\n",
    "    Returns\n",
    "    -------\n",
    "    the_sum : type of anrguments\n",
    "    \"\"\"\n",
    "    return a+b"
   ]
  },
  {
   "cell_type": "code",
   "execution_count": 17,
   "metadata": {},
   "outputs": [],
   "source": [
    "add_numbers?"
   ]
  },
  {
   "cell_type": "code",
   "execution_count": 18,
   "metadata": {},
   "outputs": [],
   "source": [
    "add_numbers??"
   ]
  },
  {
   "cell_type": "code",
   "execution_count": 21,
   "metadata": {},
   "outputs": [],
   "source": [
    "# Jupyter Notebook中不支持\n",
    "np.*load*?"
   ]
  },
  {
   "cell_type": "markdown",
   "metadata": {},
   "source": [
    "1. 使用一个`?`来显示文档字符串(可以是自己创建的)  \n",
    "2. 使用双问号`??`可以显示函数的源代码\n",
    "3. `?`可以搜索IPython命名空间,与其它字符和通配符组合在一起，会显示所有匹配通配符表达式的命名。"
   ]
  },
  {
   "cell_type": "markdown",
   "metadata": {
    "heading_collapsed": true
   },
   "source": [
    "### %run命令"
   ]
  },
  {
   "cell_type": "code",
   "execution_count": 22,
   "metadata": {
    "hidden": true
   },
   "outputs": [],
   "source": [
    "%run ipython_script_test.py"
   ]
  },
  {
   "cell_type": "code",
   "execution_count": 23,
   "metadata": {
    "hidden": true
   },
   "outputs": [
    {
     "data": {
      "text/plain": [
       "7.5"
      ]
     },
     "execution_count": 23,
     "metadata": {},
     "output_type": "execute_result"
    }
   ],
   "source": [
    "c"
   ]
  },
  {
   "cell_type": "code",
   "execution_count": 25,
   "metadata": {
    "hidden": true
   },
   "outputs": [
    {
     "data": {
      "text/plain": [
       "1.4666666666666666"
      ]
     },
     "execution_count": 25,
     "metadata": {},
     "output_type": "execute_result"
    }
   ],
   "source": [
    "result"
   ]
  },
  {
   "cell_type": "markdown",
   "metadata": {
    "hidden": true
   },
   "source": [
    "- 脚本是在空白的命名空间(没有导入模块和其他的定义变量)中运行的与命令行直接运行结果相同。  \n",
    "- 文件中定义的所有变量(导入的、函数中的、全局定义的)在运行之后可以在IPython命令行中使用。  \n",
    "- 若要提供命令行参数，则需要在文件路径后面加上参数传递。\n",
    "- 如果要让代运行的脚本在使用IPython命名空间中已有的变量，使用`%run -i`。\n",
    "- 在Jupyter notebook中,使用`%load`魔术函数将脚本导入一个代码单元。"
   ]
  },
  {
   "cell_type": "code",
   "execution_count": null,
   "metadata": {
    "hidden": true
   },
   "outputs": [],
   "source": [
    "# %load ipython_script_test.py\n",
    "def f(x, y, z):\n",
    "    return (x+y)/z\n",
    "\n",
    "a = 5\n",
    "b = 6\n",
    "c = 7.5\n",
    "\n",
    "result = f(a, b, c)\n"
   ]
  },
  {
   "cell_type": "markdown",
   "metadata": {
    "hidden": true
   },
   "source": [
    "#### 中断运行的代码"
   ]
  },
  {
   "cell_type": "markdown",
   "metadata": {
    "hidden": true
   },
   "source": [
    "在任意代码运行时按下`Ctrl + C`即可。<br>\n",
    "异常情况只能强制结束Python进程。"
   ]
  },
  {
   "cell_type": "markdown",
   "metadata": {
    "heading_collapsed": true
   },
   "source": [
    "### 执行剪贴板中的程序"
   ]
  },
  {
   "cell_type": "markdown",
   "metadata": {
    "hidden": true
   },
   "source": [
    "在执行Jupyter notebook时可以将代码复制粘贴到代码单元然后运行，而IPython中可以直接运行剪贴板中的程序。\n",
    "- %paste 获得剪贴板中的所有文本，并在命令行中作为一个代码块执行。\n",
    "- %cpaste 给出一个提示符，用来粘贴代码，粘贴完毕时使用`--`或者`Ctrl + D`退出，`Ctrl + C`用来中断提示符。"
   ]
  },
  {
   "cell_type": "markdown",
   "metadata": {
    "hidden": true
   },
   "source": [
    "```python\n",
    "x = 5\n",
    "y = 7\n",
    "if x > 5:\n",
    "    x += 1\n",
    "    \n",
    "    y = 8\n",
    "```"
   ]
  },
  {
   "cell_type": "markdown",
   "metadata": {
    "hidden": true
   },
   "source": [
    "```python\n",
    "In [1]: %paste\n",
    "x = 5\n",
    "y = 7\n",
    "if x > 5:\n",
    "    x += 1\n",
    "    \n",
    "    y = 8\n",
    "## -- ENd pasted text --\n",
    "```"
   ]
  },
  {
   "cell_type": "markdown",
   "metadata": {
    "hidden": true
   },
   "source": [
    "```python\n",
    "In [18]: %cpaste\n",
    "Pasting code; enter '--' alone on the line to stop or use Ctrl-D.\n",
    ":x = 5\n",
    ":y = 7\n",
    ":if x > 5:\n",
    ":    x += 1\n",
    ":\n",
    ":    y = 8\n",
    ":--\n",
    "```"
   ]
  },
  {
   "cell_type": "markdown",
   "metadata": {},
   "source": [
    "### 终端快捷键"
   ]
  },
  {
   "cell_type": "markdown",
   "metadata": {
    "heading_collapsed": true
   },
   "source": [
    "#### 标准IPython快捷键列表"
   ]
  },
  {
   "cell_type": "markdown",
   "metadata": {
    "hidden": true
   },
   "source": [
    "|快捷键 | 描述 |\n",
    "|:-|:-|\n",
    "|Ctrl+P 或 向上箭头|从当前内容开始向后搜索历史命令|\n",
    "|Ctrl+N 或 向下箭头|从当前内容开始向前搜索历史命令|\n",
    "|Ctrl+R|按行读取的反向历史记录(部分匹配)|\n",
    "|Ctrl+Shift+V|从剪贴板粘贴文本|\n",
    "|Ctrl+C|中断当前正在执行的代码|\n",
    "|Ctrl+A|将光标移动到本行起始位置|\n",
    "|Ctrl+E|将光标移动到本行结束位置|\n",
    "|Ctrl+K|删除光标后本行的所有内容|\n",
    "|Ctrl+U|删除当前行|\n",
    "|Ctrl+F|将光标向前移动一个字符|\n",
    "|Ctrl+B|将光标向后移动一个字符|\n",
    "|Ctrl+L|清除本屏内容|"
   ]
  },
  {
   "cell_type": "markdown",
   "metadata": {
    "heading_collapsed": true
   },
   "source": [
    "### 关于魔术命令"
   ]
  },
  {
   "cell_type": "markdown",
   "metadata": {
    "hidden": true
   },
   "source": [
    "1. IPython的特殊命令，简化常见任务。前缀符号是`%`  \n",
    "2. 魔术命令可以看做是IPython系统内部的命令行程序，大多数可以使用`?`来查看额外的“命令行”选项。\n",
    "3. 没有变量定义为与魔数函数相同的名字时可以不加`%`直接使用魔术命令，称为自动魔术，通过`%automagic`进行启用/禁用关。\n",
    "4. 魔术命令的输出可以赋值给一个变量"
   ]
  },
  {
   "cell_type": "markdown",
   "metadata": {
    "hidden": true
   },
   "source": [
    "- %timeit  检查一段Python语句的执行时间\n",
    "- %pwd     显示当前文件路径\n",
    "- %automagic 自动魔术是否开启\n",
    "- %quickref %magic 探索所有的特殊命令"
   ]
  },
  {
   "cell_type": "markdown",
   "metadata": {
    "hidden": true
   },
   "source": [
    "```python\n",
    "In [6]: import numpy as np\n",
    "\n",
    "In [7]: a = np.random.randn(100,100)\n",
    "\n",
    "In [8]: %timeit np.dot(a, a)\n",
    "110 µs ± 15.5 µs per loop (mean ± std. dev. of 7 runs, 1 loop each)\n",
    "```"
   ]
  },
  {
   "cell_type": "markdown",
   "metadata": {
    "hidden": true
   },
   "source": [
    "```python\n",
    "In [9]: %debug?\n",
    "Docstring:\n",
    "::\n",
    "\n",
    "  %debug [--breakpoint FILE:LINE] [statement [statement ...]]\n",
    "\n",
    "Activate the interactive debugger.\n",
    "\n",
    "This magic command support two ways of activating debugger.\n",
    "One is to activate debugger before executing code.  This way, you\n",
    "can set a break point, to step through the code from the point.\n",
    "You can use this mode by giving statements to execute and optionally\n",
    "a breakpoint.\n",
    "\n",
    "The other one is to activate debugger in post-mortem mode.  You can\n",
    "activate this mode simply running %debug without any argument.\n",
    "If an exception has just occurred, this lets you inspect its stack\n",
    "frames interactively.  Note that this will always work only on the last\n",
    "traceback that occurred, so you must call this quickly after an\n",
    "exception that you wish to inspect has fired, because if another one\n",
    "occurs, it clobbers the previous one.\n",
    "\n",
    "If you want IPython to automatically do this on every exception, see\n",
    "the %pdb magic for more details.\n",
    "\n",
    "positional arguments:\n",
    "  statement             Code to run in debugger. You can omit this in cell\n",
    "                        magic mode.\n",
    "\n",
    "optional arguments:\n",
    "---Return to continue, q to quit---\n",
    "```"
   ]
  },
  {
   "cell_type": "markdown",
   "metadata": {
    "hidden": true
   },
   "source": [
    "```python\n",
    "In [10]: %pwd\n",
    "Out[10]: 'D:\\\\PythonCourse\\\\Jupyter Notebook\\\\Book\\\\Python for Data Analysis\\\\chap02'\n",
    "\n",
    "In [11]: foo = %pwd\n",
    "\n",
    "In [12]: foo\n",
    "Out[12]: 'D:\\\\PythonCourse\\\\Jupyter Notebook\\\\Book\\\\Python for Data Analysis\\\\chap02'\n",
    "```"
   ]
  },
  {
   "cell_type": "markdown",
   "metadata": {
    "hidden": true
   },
   "source": [
    "```python\n",
    "In [13]: %magic\n",
    "\n",
    "IPython's 'magic' functions\n",
    "===========================\n",
    "\n",
    "The magic function system provides a series of functions which allow you to\n",
    "control the behavior of IPython itself, plus a lot of system-type\n",
    "features. There are two kinds of magics, line-oriented and cell-oriented.\n",
    "\n",
    "Line magics are prefixed with the % character and work much like OS\n",
    "command-line calls: they get as an argument the rest of the line, where\n",
    "arguments are passed without parentheses or quotes.  For example, this will\n",
    "time the given statement::\n",
    "\n",
    "        %timeit range(1000)\n",
    "\n",
    "Cell magics are prefixed with a double %%, and they are functions that get as\n",
    "an argument not only the rest of the line, but also the lines below it in a\n",
    "separate argument.  These magics are called with two arguments: the rest of the\n",
    "call line and the body of the cell, consisting of the lines below the first.\n",
    "For example::\n",
    "\n",
    "        %%timeit x = numpy.random.randn((100, 100))\n",
    "        numpy.linalg.svd(x)\n",
    "\n",
    "will time the execution of the numpy svd routine, running the assignment of x\n",
    "as part of the setup phase, which is not timed.\n",
    "\n",
    "In a line-oriented client (the terminal or Qt console IPython), starting a new\n",
    "input with %% will automatically enter cell mode, and IPython will continue\n",
    "---Return to continue, q to quit---\n",
    "```"
   ]
  },
  {
   "cell_type": "markdown",
   "metadata": {
    "hidden": true
   },
   "source": [
    "```python\n",
    "In [14]: %quickref\n",
    "\n",
    "IPython -- An enhanced Interactive Python - Quick Reference Card\n",
    "================================================================\n",
    "\n",
    "obj?, obj??      : Get help, or more help for object (also works as\n",
    "                   ?obj, ??obj).\n",
    "?foo.*abc*       : List names in 'foo' containing 'abc' in them.\n",
    "%magic           : Information about IPython's 'magic' % functions.\n",
    "\n",
    "Magic functions are prefixed by % or %%, and typically take their arguments\n",
    "without parentheses, quotes or even commas for convenience.  Line magics take a\n",
    "single % and cell magics are prefixed with two %%.\n",
    "\n",
    "Example magic function calls:\n",
    "\n",
    "%alias d ls -F   : 'd' is now an alias for 'ls -F'\n",
    "alias d ls -F    : Works if 'alias' not a python name\n",
    "alist = %alias   : Get list of aliases to 'alist'\n",
    "cd /usr/share    : Obvious. cd -<tab> to choose from visited dirs.\n",
    "%cd??            : See help AND source for magic %cd\n",
    "%timeit x=10     : time the 'x=10' statement with high precision.\n",
    "%%timeit x=2**100\n",
    "x**100           : time 'x**100' with a setup of 'x=2**100'; setup code is not\n",
    "                   counted.  This is an example of a cell magic.\n",
    "\n",
    "System commands:\n",
    "\n",
    "!cp a.txt b/     : System command escape, calls os.system()\n",
    "cp a.txt b/      : after %rehashx, most system commands work without !\n",
    "---Return to continue, q to quit---\n",
    "```"
   ]
  },
  {
   "cell_type": "markdown",
   "metadata": {
    "hidden": true
   },
   "source": [
    "IPython常用魔术命令"
   ]
  },
  {
   "cell_type": "markdown",
   "metadata": {
    "hidden": true
   },
   "source": [
    "\n",
    "|命令|描述|\n",
    "|:-|:-|\n",
    "|%quickref|显示IPython的快速参考卡|\n",
    "|%magic|显示所有可用魔术命令的详细文档|\n",
    "|%debug|从最后发生报错的底部进入交互式调试器|\n",
    "|%hist|打印命令输入(也可以打印输出)历史|\n",
    "|%pdb|出现任意报错后自动进入调试器|\n",
    "|%paste|从剪切板中执行已经预先格式化的Python代码|\n",
    "|%cpaste|打开一个特殊提示符，手动粘贴待执行的Python代码|\n",
    "|%reset|删除交互式命名空间中所有的变量、名称|\n",
    "|%page OBJECT|通过分页器更美观地打印显示一个对象|\n",
    "|%run script.py|在IPython中运行一个Python脚本|\n",
    "|%prun statement|使用CProfile执行语句，并报告输出|\n",
    "|%time statement|报告单个语句的执行时间|\n",
    "|%timeit statement| 多次执行单个语句计算平均执行时间；在估算代码最短执行时间时有用|\n",
    "|%who %who_ls %whos|根据不同级别的信息/详细程度，展示交互命名空间中定义的变量|\n",
    "|%xdel variable|在IPython内部删除一个变量，清除相关的引用|"
   ]
  },
  {
   "cell_type": "markdown",
   "metadata": {
    "heading_collapsed": true
   },
   "source": [
    "### matplotlib集成"
   ]
  },
  {
   "cell_type": "markdown",
   "metadata": {
    "hidden": true
   },
   "source": [
    "`%matplotlib`魔术命令可以设置matplotlib与IPython命令行或Jupyter notebook的集成。\n",
    "- 在Ipython命令行中，运行`%matplotlib`可以生成多个绘图窗口，额如需干扰控制台的会话。\n",
    "- 在Jupyter notebook中，运行`%matplotlib inline`。"
   ]
  },
  {
   "cell_type": "markdown",
   "metadata": {
    "hidden": true
   },
   "source": [
    "```python\n",
    "In [19]: %matplotlib\n",
    "Using matplotlib backend: Qt5Agg\n",
    "```"
   ]
  },
  {
   "cell_type": "code",
   "execution_count": 3,
   "metadata": {
    "hidden": true
   },
   "outputs": [],
   "source": [
    "%matplotlib inline"
   ]
  },
  {
   "cell_type": "code",
   "execution_count": 5,
   "metadata": {
    "hidden": true
   },
   "outputs": [
    {
     "data": {
      "text/plain": [
       "[<matplotlib.lines.Line2D at 0x24b29750b00>]"
      ]
     },
     "execution_count": 5,
     "metadata": {},
     "output_type": "execute_result"
    },
    {
     "data": {
      "image/png": "[encoded data removed]",
      "text/plain": [
       "<Figure size 432x288 with 1 Axes>"
      ]
     },
     "metadata": {},
     "output_type": "display_data"
    }
   ],
   "source": [
    "import matplotlib.pyplot as plt\n",
    "import numpy as np\n",
    "\n",
    "plt.plot(np.random.randn(50).cumsum())"
   ]
  },
  {
   "cell_type": "markdown",
   "metadata": {
    "heading_collapsed": true
   },
   "source": [
    "## Python语言基础"
   ]
  },
  {
   "cell_type": "markdown",
   "metadata": {
    "hidden": true
   },
   "source": [
    "### 语言语义"
   ]
  },
  {
   "cell_type": "markdown",
   "metadata": {
    "heading_collapsed": true,
    "hidden": true
   },
   "source": [
    "#### 缩进，而不是大括号"
   ]
  },
  {
   "cell_type": "markdown",
   "metadata": {
    "hidden": true
   },
   "source": [
    "1. Python使用缩进来组织代码,一个冒号代表一个缩进代码块的开始，单个代码块中所有的代码必须保持相同的缩进直到代码块结束。  \n",
    "2. 推荐使用四个空格来使用缩进。\n",
    "3. Python中可以使用分号在一行内经多条语句进行分隔,但是不推荐使用。"
   ]
  },
  {
   "cell_type": "markdown",
   "metadata": {
    "hidden": true
   },
   "source": [
    "```python\n",
    "for i in array:\n",
    "    if x < pivot:\n",
    "        less.append(x)\n",
    "    else:\n",
    "        great.append(x)\n",
    "```"
   ]
  },
  {
   "cell_type": "markdown",
   "metadata": {
    "hidden": true
   },
   "source": [
    "```python\n",
    "a = 5; b = 6; c = 7\n",
    "```"
   ]
  },
  {
   "cell_type": "markdown",
   "metadata": {
    "heading_collapsed": true,
    "hidden": true
   },
   "source": [
    "#### 一切皆为对象"
   ]
  },
  {
   "cell_type": "markdown",
   "metadata": {
    "hidden": true
   },
   "source": [
    "Python中每一个数值、字符串、数据结构、函数、类、模块以及所有存在于Python解释器中的事物都是Python对象。每个对象都会关联到一种类型(例如字符串、函数)和内部数据。"
   ]
  },
  {
   "cell_type": "markdown",
   "metadata": {
    "heading_collapsed": true,
    "hidden": true
   },
   "source": [
    "#### 注释"
   ]
  },
  {
   "cell_type": "markdown",
   "metadata": {
    "hidden": true
   },
   "source": [
    "- 使用`#`在代码块中添加注释。\n",
    "- 注释也可以写在一行被执行代码的后面。"
   ]
  },
  {
   "cell_type": "markdown",
   "metadata": {
    "hidden": true
   },
   "source": [
    "```python\n",
    "result = []\n",
    "for line in file_handle:\n",
    "    # 当前保持行为空\n",
    "    # if len(line) == 0\n",
    "    #   则继续\n",
    "    result.append(line.replace('foo', 'bar'))\n",
    "```"
   ]
  },
  {
   "cell_type": "markdown",
   "metadata": {
    "hidden": true
   },
   "source": [
    "```python\n",
    "print('Reached this line')    # 简单的状态报告\n",
    "```"
   ]
  },
  {
   "cell_type": "markdown",
   "metadata": {
    "heading_collapsed": true,
    "hidden": true
   },
   "source": [
    "#### 函数和对象方法的调用"
   ]
  },
  {
   "cell_type": "markdown",
   "metadata": {
    "hidden": true
   },
   "source": [
    "- 调用函数时，向函数括号中传递0或多个参数，通常会把返回值赋给一个变量。\n",
    "- 几乎所有的Python对象都有内部函数，称之为方法。\n",
    "- 函数传参可以是位置参数，也可以是关键字参数。"
   ]
  },
  {
   "cell_type": "markdown",
   "metadata": {
    "hidden": true
   },
   "source": [
    "```python\n",
    "reslut = f(x, y, z)\n",
    "g()\n",
    "```"
   ]
  },
  {
   "cell_type": "markdown",
   "metadata": {
    "hidden": true
   },
   "source": [
    "```python\n",
    "obj.aome_method(x, y, z)\n",
    "\n",
    "result = f(a, b, c, d=5, e='foo')\n",
    "```"
   ]
  },
  {
   "cell_type": "markdown",
   "metadata": {
    "heading_collapsed": true,
    "hidden": true
   },
   "source": [
    "#### 变量和参数传递"
   ]
  },
  {
   "cell_type": "markdown",
   "metadata": {
    "hidden": true
   },
   "source": [
    "- 在Python中虽一个变量(或者变量名)赋值时，就创建了一个指向等号右边对象的引用。\n",
    "- 当将对象作为参数传递给函数时，指向原始对象的新的本地变量就会被创建而无需复制。即如果将一个新的对象绑定到一个函数内部的变量上，这种变更不会在上级范围中产生影响。因此，更换可变阐述的内部直是可以做到的。"
   ]
  },
  {
   "cell_type": "markdown",
   "metadata": {
    "hidden": true
   },
   "source": [
    "```python\n",
    "# 实际上a和b指向的是同一个对象\n",
    "\n",
    "In [22]: a = [1,2,3]\n",
    "\n",
    "In [23]: b = a\n",
    "\n",
    "In [24]: a.append(4)\n",
    "\n",
    "In [25]: b\n",
    "Out[25]: [1, 2, 3, 4]\n",
    "\n",
    "In [26]: a\n",
    "Out[26]: [1, 2, 3, 4]\n",
    "```"
   ]
  },
  {
   "cell_type": "markdown",
   "metadata": {
    "hidden": true
   },
   "source": [
    "```python\n",
    "In [27]: def append_element(some_list, element):\n",
    "    ...:     some_list.append(element)\n",
    "    ...:\n",
    "\n",
    "In [28]: data = [1, 2, 3]\n",
    "\n",
    "In [29]: append_element(data, 4)\n",
    "\n",
    "In [30]: data\n",
    "Out[30]: [1, 2, 3, 4]\n",
    "```"
   ]
  },
  {
   "cell_type": "markdown",
   "metadata": {
    "heading_collapsed": true,
    "hidden": true
   },
   "source": [
    "#### 动态引用，强类型"
   ]
  },
  {
   "cell_type": "markdown",
   "metadata": {
    "hidden": true
   },
   "source": [
    "- Python中对象引用不涉及类型。\n",
    "- 变量对于对象来说只是特定命名空间中的名称，类型信息是存储在对象自身之外的。\n",
    "- 所有的对象都拥有一个指定的类型(或类)，隐式转换只在某些特定的、明显的情况下发生。\n",
    "- `isinstance`函数用来检查一个对象是否是特定类型的实例。"
   ]
  },
  {
   "cell_type": "markdown",
   "metadata": {
    "hidden": true
   },
   "source": [
    "```python\n",
    "In [31]: a = 5\n",
    "\n",
    "In [32]: type(a)\n",
    "Out[32]: int\n",
    "\n",
    "In [33]: a = 'foo'\n",
    "\n",
    "In [34]: type(a)\n",
    "Out[34]: str\n",
    "```"
   ]
  },
  {
   "cell_type": "code",
   "execution_count": 8,
   "metadata": {
    "collapsed": true,
    "hidden": true
   },
   "outputs": [
    {
     "ename": "TypeError",
     "evalue": "must be str, not int",
     "output_type": "error",
     "traceback": [
      "\u001b[1;31m---------------------------------------------------------------------------\u001b[0m",
      "\u001b[1;31mTypeError\u001b[0m                                 Traceback (most recent call last)",
      "\u001b[1;32m<ipython-input-8-4dd8efb5fac1>\u001b[0m in \u001b[0;36m<module>\u001b[1;34m()\u001b[0m\n\u001b[1;32m----> 1\u001b[1;33m \u001b[1;34m'5'\u001b[0m \u001b[1;33m+\u001b[0m \u001b[1;36m5\u001b[0m\u001b[1;33m\u001b[0m\u001b[0m\n\u001b[0m",
      "\u001b[1;31mTypeError\u001b[0m: must be str, not int"
     ]
    }
   ],
   "source": [
    "'5' + 5"
   ]
  },
  {
   "cell_type": "code",
   "execution_count": 9,
   "metadata": {
    "collapsed": true,
    "hidden": true
   },
   "outputs": [
    {
     "name": "stdout",
     "output_type": "stream",
     "text": [
      "a is <class 'float'>, b is <class 'float'>\n"
     ]
    },
    {
     "data": {
      "text/plain": [
       "2.25"
      ]
     },
     "execution_count": 9,
     "metadata": {},
     "output_type": "execute_result"
    }
   ],
   "source": [
    "a = 4.5\n",
    "b = 2\n",
    "# String formatting, to be viisited later\n",
    "print('a is {0}, b is {0}'.format(type(a), type(b)))\n",
    "a / b"
   ]
  },
  {
   "cell_type": "code",
   "execution_count": 10,
   "metadata": {
    "hidden": true
   },
   "outputs": [
    {
     "data": {
      "text/plain": [
       "True"
      ]
     },
     "execution_count": 10,
     "metadata": {},
     "output_type": "execute_result"
    }
   ],
   "source": [
    "a = 5\n",
    "isinstance(a, int)"
   ]
  },
  {
   "cell_type": "markdown",
   "metadata": {
    "hidden": true
   },
   "source": [
    "```python\n",
    "# isinstance接受一个包含类型的元组。\n",
    "\n",
    "In [35]: a = 5; b = 4.5\n",
    "\n",
    "In [36]: isinstance(a, (int, float))\n",
    "Out[36]: True\n",
    "\n",
    "In [37]: isinstance(b, (int, float))\n",
    "Out[37]: True\n",
    "```"
   ]
  },
  {
   "cell_type": "markdown",
   "metadata": {
    "heading_collapsed": true,
    "hidden": true
   },
   "source": [
    "#### 属性和方法"
   ]
  },
  {
   "cell_type": "markdown",
   "metadata": {
    "hidden": true
   },
   "source": [
    "- Python中的对象通常会有属性和方法，均通过`obj.attribute_name`的方式调用。\n",
    "- 属性和方法可以通过`getattr`方法获得"
   ]
  },
  {
   "cell_type": "code",
   "execution_count": 11,
   "metadata": {
    "hidden": true
   },
   "outputs": [
    {
     "data": {
      "text/plain": [
       "<function str.split>"
      ]
     },
     "execution_count": 11,
     "metadata": {},
     "output_type": "execute_result"
    }
   ],
   "source": [
    "a = 'foo'\n",
    "getattr(a, 'split')"
   ]
  },
  {
   "cell_type": "markdown",
   "metadata": {
    "heading_collapsed": true,
    "hidden": true
   },
   "source": [
    "#### 鸭子类型"
   ]
  },
  {
   "cell_type": "markdown",
   "metadata": {
    "hidden": true
   },
   "source": [
    "- 使用`iter`函数验证一个对象是否实现了迭代器对象。\n",
    "- 对于绝大多数的Python容器类型的对象，`iter`函数都会返回True。"
   ]
  },
  {
   "cell_type": "code",
   "execution_count": 27,
   "metadata": {
    "hidden": true
   },
   "outputs": [],
   "source": [
    "def isiterable(obj):\n",
    "    try:\n",
    "        iter(obj)\n",
    "        return True\n",
    "    except TypeError:   # not iterable\n",
    "        return False"
   ]
  },
  {
   "cell_type": "code",
   "execution_count": 28,
   "metadata": {
    "hidden": true
   },
   "outputs": [
    {
     "name": "stdout",
     "output_type": "stream",
     "text": [
      "True\n",
      "True\n",
      "False\n"
     ]
    }
   ],
   "source": [
    "print(isiterable('a string'))\n",
    "print(isiterable([1, 2, 3]))\n",
    "print(isiterable(5))"
   ]
  },
  {
   "cell_type": "code",
   "execution_count": null,
   "metadata": {
    "hidden": true
   },
   "outputs": [],
   "source": [
    "# 先检查对象是否是一个列表(NumPy数组)，不是则将其转换为一个列表\n",
    "\n",
    "if not isinstance(x, list) and isiterable(x):\n",
    "    x = list(x)"
   ]
  },
  {
   "cell_type": "markdown",
   "metadata": {
    "heading_collapsed": true,
    "hidden": true
   },
   "source": [
    "#### 导入"
   ]
  },
  {
   "cell_type": "markdown",
   "metadata": {
    "hidden": true
   },
   "source": [
    "- Python中模块就是以`.py`为后缀名并且包含Python代码的文件。"
   ]
  },
  {
   "cell_type": "code",
   "execution_count": 33,
   "metadata": {
    "hidden": true
   },
   "outputs": [],
   "source": [
    "# %load some_module.py\n",
    "# some_module.py\n",
    "PI = 3.14159\n",
    "\n",
    "def f(x):\n",
    "    return x + 2\n",
    "\n",
    "def g(a,b):\n",
    "    return a + b\n"
   ]
  },
  {
   "cell_type": "code",
   "execution_count": 34,
   "metadata": {
    "hidden": true
   },
   "outputs": [
    {
     "name": "stdout",
     "output_type": "stream",
     "text": [
      "7 3.14159\n"
     ]
    }
   ],
   "source": [
    "import some_module\n",
    "result = some_module.f(5)\n",
    "pi = some_module.PI\n",
    "print(result, pi)"
   ]
  },
  {
   "cell_type": "code",
   "execution_count": 35,
   "metadata": {
    "hidden": true
   },
   "outputs": [
    {
     "name": "stdout",
     "output_type": "stream",
     "text": [
      "8.14159\n"
     ]
    }
   ],
   "source": [
    "from some_module import f, g, PI\n",
    "result = g(5, PI)\n",
    "print(result)"
   ]
  },
  {
   "cell_type": "code",
   "execution_count": 37,
   "metadata": {
    "hidden": true
   },
   "outputs": [
    {
     "name": "stdout",
     "output_type": "stream",
     "text": [
      "5.14159 9.14159\n"
     ]
    }
   ],
   "source": [
    "# 通过as关键字给导入的内容不同的变量名\n",
    "import some_module as sm\n",
    "from some_module import PI as pi, g as gf\n",
    "\n",
    "r1 = sm.f(pi)\n",
    "r2 = gf(6, pi)\n",
    "print(r1, r2)"
   ]
  },
  {
   "cell_type": "markdown",
   "metadata": {
    "heading_collapsed": true,
    "hidden": true
   },
   "source": [
    "#### 二元运算符和比较运算"
   ]
  },
  {
   "cell_type": "markdown",
   "metadata": {
    "hidden": true
   },
   "source": [
    "- `is`关键字检查两个关键字是否指向同一个对象，`is not`同样有效。\n",
    "- `list`函数总是创建一个新的Python列表(即一份拷贝),\n",
    "- `==`是检查对象的内容是否相同，`is`是检查是否是同一个对象。"
   ]
  },
  {
   "cell_type": "markdown",
   "metadata": {
    "hidden": true
   },
   "source": [
    "```python\n",
    "In [38]: 5 - 7\n",
    "Out[38]: -2\n",
    "\n",
    "In [39]: 12 + 21.5\n",
    "Out[39]: 33.5\n",
    "\n",
    "In [40]: 5 <= 2\n",
    "Out[40]: False\n",
    "```"
   ]
  },
  {
   "cell_type": "markdown",
   "metadata": {
    "hidden": true
   },
   "source": [
    "```python\n",
    "In [41]: a = [1, 2, 3]\n",
    "\n",
    "In [42]: b = a\n",
    "\n",
    "In [43]: c = list(a)\n",
    "\n",
    "In [44]: a is b\n",
    "Out[44]: True\n",
    "\n",
    "In [45]: a is not c\n",
    "Out[45]: True\n",
    "```"
   ]
  },
  {
   "cell_type": "markdown",
   "metadata": {
    "hidden": true
   },
   "source": [
    "```python\n",
    "In [46]: a == c\n",
    "Out[46]: True\n",
    "\n",
    "In [47]: a is None\n",
    "Out[47]: False\n",
    "\n",
    "In [48]: a = None\n",
    "\n",
    "In [49]: a is None\n",
    "Out[49]: True\n",
    "```"
   ]
  },
  {
   "cell_type": "markdown",
   "metadata": {
    "hidden": true
   },
   "source": [
    "二元操作符"
   ]
  },
  {
   "cell_type": "markdown",
   "metadata": {
    "hidden": true
   },
   "source": [
    "|操作符|描述|\n",
    "|:-|:-|\n",
    "|a + b|a加b|\n",
    "|a * b|a乘b|\n",
    "|a / b|a除以b|\n",
    "|a // b|a整除以b|\n",
    "|a ** b|a的b次方|\n",
    "|a & b|a与b，对于整数则是按位AND|\n",
    "|a \\| b|a或b，对于整数则是按位OR|\n",
    "|a ^ b|对布尔值，a异或b，对整数则是按位异或|\n",
    "|a == b|a和b相等则为True|\n",
    "|a != b|a和b不相等则为True|\n",
    "|a <= b, a < b|小于等于，小于|\n",
    "|a > b, a >= b|大于，大于等于|\n",
    "|a is b|a和b是同一个Python对象则为True|\n",
    "|a is not b|a和b不是同一个Python对象则为True|"
   ]
  },
  {
   "cell_type": "markdown",
   "metadata": {
    "heading_collapsed": true,
    "hidden": true
   },
   "source": [
    "#### 可变对象和不可变对象"
   ]
  },
  {
   "cell_type": "markdown",
   "metadata": {
    "hidden": true
   },
   "source": [
    "- Python中的大部分对象，如列表，字典，Numpy对象是可变对象，大多数用户定义的类型(类)也是可变的。可变对象中包含的对象和值是可以被修改的。\n",
    "- Python中的字符串和元组等式对象是不可变的。"
   ]
  },
  {
   "cell_type": "markdown",
   "metadata": {
    "hidden": true
   },
   "source": [
    "```python\n",
    "In [50]: a_list = ['foo', 2, [4, 5]]\n",
    "\n",
    "In [51]: a_list[2]\n",
    "Out[51]: [4, 5]\n",
    "\n",
    "In [52]: a_list\n",
    "Out[52]: ['foo', 2, [4, 5]]\n",
    "```"
   ]
  },
  {
   "cell_type": "markdown",
   "metadata": {
    "hidden": true
   },
   "source": [
    "```python\n",
    "In [53]: a_tuple = (3, 5, (4, 5))\n",
    "\n",
    "In [54]: a_tuple[1] = 'four'\n",
    "---------------------------------------------------------------------------\n",
    "TypeError                                 Traceback (most recent call last)\n",
    "<ipython-input-54-23fe12da1ba6> in <module>()\n",
    "----> 1 a_tuple[1] = 'four'\n",
    "\n",
    "TypeError: 'tuple' object does not support item assignment\n",
    "```"
   ]
  },
  {
   "cell_type": "markdown",
   "metadata": {
    "heading_collapsed": true,
    "hidden": true
   },
   "source": [
    "### 标量类型"
   ]
  },
  {
   "cell_type": "markdown",
   "metadata": {
    "hidden": true
   },
   "source": [
    "标准python标量类型\n",
    "\n",
    "|类型|描述|\n",
    "|:-|:-|\n",
    "|None|Python的null值，只存在一个实例|\n",
    "|str|字符串类型，包含Unicode(UTF-8编码)字符串|\n",
    "|bytes|原生ASCII字节(或者Unicode编码字节)|\n",
    "|float|双精度64位浮点数值(注意没有独立的double类型)|\n",
    "|bool|True或Flase|\n",
    "|int|任意精度无符号整数|"
   ]
  },
  {
   "cell_type": "markdown",
   "metadata": {
    "heading_collapsed": true,
    "hidden": true
   },
   "source": [
    "#### 数值类型"
   ]
  },
  {
   "cell_type": "markdown",
   "metadata": {
    "hidden": true
   },
   "source": [
    "- 基础的Python数字类型就是`int`和`float`。`int`可以存储任意大小的数字。\n",
    "- 浮点数在Python中用`float`表示，每一个浮点数都是双精度64位数值。\n",
    "- 整数除法会将结果自动转型为浮点数。\n",
    "- `//`为整数操作符"
   ]
  },
  {
   "cell_type": "code",
   "execution_count": 38,
   "metadata": {
    "hidden": true
   },
   "outputs": [
    {
     "data": {
      "text/plain": [
       "26254519291092456596965462913230729701102721"
      ]
     },
     "execution_count": 38,
     "metadata": {},
     "output_type": "execute_result"
    }
   ],
   "source": [
    "ival = 17239871\n",
    "ival ** 6"
   ]
  },
  {
   "cell_type": "code",
   "execution_count": 39,
   "metadata": {
    "hidden": true
   },
   "outputs": [],
   "source": [
    "fval = 7.243\n",
    "fval2 = 6.78e-5"
   ]
  },
  {
   "cell_type": "code",
   "execution_count": 40,
   "metadata": {
    "hidden": true
   },
   "outputs": [
    {
     "name": "stdout",
     "output_type": "stream",
     "text": [
      "1.5\n",
      "1\n"
     ]
    }
   ],
   "source": [
    "print(3 / 2)\n",
    "print(3 // 2)"
   ]
  },
  {
   "cell_type": "markdown",
   "metadata": {
    "heading_collapsed": true,
    "hidden": true
   },
   "source": [
    "#### 字符串"
   ]
  },
  {
   "cell_type": "markdown",
   "metadata": {
    "hidden": true
   },
   "source": [
    "- 可以使用单引号`'`或者`\"`写一个字符串字面值\n",
    "- 对于有换行的多行字符串，使用三个单引号`'''`，或者三个双引号`\"\"\"`\n",
    "- Python中的字符串无法修改\n",
    "- 字符串是Unicode字符的序列，可以被看做是除了列表和元组之外的另外一种序列。\n",
    "- `s[:3]`这种写法叫做切片\n",
    "- 反斜杠符号`\\`是转义符号，用来指明特殊的含义。\n",
    "- 在字符串前面加上一个`r`代表这是一个原生字符串。(raw)\n",
    "- 字符串格式化[官方文档](https://docs.python.org/3.6/library/string.html)"
   ]
  },
  {
   "cell_type": "code",
   "execution_count": 50,
   "metadata": {
    "hidden": true
   },
   "outputs": [],
   "source": [
    "a = 'one way of writing a string'\n",
    "b = 'another way'\n",
    "\n",
    "c = \"\"\"\n",
    "This is a longer string that\n",
    "spans multiple lines\n",
    "\"\"\""
   ]
  },
  {
   "cell_type": "code",
   "execution_count": 51,
   "metadata": {
    "hidden": true
   },
   "outputs": [
    {
     "data": {
      "text/plain": [
       "3"
      ]
     },
     "execution_count": 51,
     "metadata": {},
     "output_type": "execute_result"
    }
   ],
   "source": [
    "# 计算字符串c的换行符\n",
    "c.count('\\n')"
   ]
  },
  {
   "cell_type": "markdown",
   "metadata": {
    "hidden": true
   },
   "source": [
    "```python\n",
    "In [55]: a = 'this si a string'\n",
    "\n",
    "In [56]: a[10] = 'f'\n",
    "---------------------------------------------------------------------------\n",
    "TypeError                                 Traceback (most recent call last)\n",
    "<ipython-input-56-2151a30ed055> in <module>()\n",
    "----> 1 a[10] = 'f'\n",
    "\n",
    "TypeError: 'str' object does not support item assignment\n",
    "```"
   ]
  },
  {
   "cell_type": "markdown",
   "metadata": {
    "hidden": true
   },
   "source": [
    "```python\n",
    "In [57]: a = 5.6\n",
    "\n",
    "In [58]: s = str(a)\n",
    "\n",
    "In [59]: print(type(s))\n",
    "<class 'str'>\n",
    "\n",
    "In [60]: s = 'python'\n",
    "\n",
    "In [61]: list(s)\n",
    "Out[61]: ['p', 'y', 't', 'h', 'o', 'n']\n",
    "\n",
    "In [62]: s[:3]\n",
    "Out[62]: 'pyt'\n",
    "```"
   ]
  },
  {
   "cell_type": "code",
   "execution_count": 52,
   "metadata": {
    "hidden": true
   },
   "outputs": [
    {
     "name": "stdout",
     "output_type": "stream",
     "text": [
      "12\\34\n",
      "this\\has\\no\\special\\characters\n",
      "this is the first half and this si the second half\n"
     ]
    }
   ],
   "source": [
    "s = '12\\\\34'\n",
    "print(s)\n",
    "s = r'this\\has\\no\\special\\characters'\n",
    "print(s)\n",
    "\n",
    "a = 'this is the first half '\n",
    "b = 'and this si the second half'\n",
    "print(a + b)"
   ]
  },
  {
   "cell_type": "code",
   "execution_count": 53,
   "metadata": {
    "hidden": true
   },
   "outputs": [
    {
     "name": "stdout",
     "output_type": "stream",
     "text": [
      "4.56 Argentine Pesos are worth US$1\n"
     ]
    }
   ],
   "source": [
    "# 字符串格式化\n",
    "# {0:.2f}表示将第一个参数格式化为2位小数的浮点数\n",
    "# {1:s}表示将第二个参数格式化为字符串\n",
    "# {2:d}表示将第三个参数格式化为整数\n",
    "\n",
    "template = '{0:.2f} {1:s} are worth US${2:d}'\n",
    "print(template.format(4.5560, 'Argentine Pesos', 1))"
   ]
  },
  {
   "cell_type": "markdown",
   "metadata": {
    "heading_collapsed": true,
    "hidden": true
   },
   "source": [
    "#### 字节与Unicode"
   ]
  },
  {
   "cell_type": "markdown",
   "metadata": {
    "hidden": true
   },
   "source": [
    "- Python3中Unicode成为字符串类型的一等类，用于更好的兼容处理文本。\n",
    "- `encode()`方法将这个Unicode字符串换成UTF-8字节\n",
    "- `decode()`方法用于一个字节对象的Unicode编码的解码"
   ]
  },
  {
   "cell_type": "code",
   "execution_count": 54,
   "metadata": {
    "hidden": true
   },
   "outputs": [
    {
     "data": {
      "text/plain": [
       "'español'"
      ]
     },
     "execution_count": 54,
     "metadata": {},
     "output_type": "execute_result"
    }
   ],
   "source": [
    "val = \"español\"\n",
    "val"
   ]
  },
  {
   "cell_type": "code",
   "execution_count": 59,
   "metadata": {
    "hidden": true
   },
   "outputs": [
    {
     "name": "stdout",
     "output_type": "stream",
     "text": [
      "b'espa\\xc3\\xb1ol'\n",
      "<class 'bytes'>\n",
      "español\n"
     ]
    }
   ],
   "source": [
    "val_utf8 = val.encode('utf-8')\n",
    "print(val_utf8)\n",
    "print(type(val_utf8))\n",
    "print(val_utf8.decode('utf-8'))"
   ]
  },
  {
   "cell_type": "code",
   "execution_count": 61,
   "metadata": {
    "hidden": true
   },
   "outputs": [
    {
     "name": "stdout",
     "output_type": "stream",
     "text": [
      "b'espa\\xf1ol'\n",
      "b'\\xff\\xfee\\x00s\\x00p\\x00a\\x00\\xf1\\x00o\\x00l\\x00'\n",
      "b'e\\x00s\\x00p\\x00a\\x00\\xf1\\x00o\\x00l\\x00'\n"
     ]
    }
   ],
   "source": [
    "print(val.encode('latin1'))\n",
    "print(val.encode('utf-16'))\n",
    "print(val.encode('utf-16le'))"
   ]
  },
  {
   "cell_type": "markdown",
   "metadata": {
    "hidden": true
   },
   "source": [
    "```python\n",
    "In [68]: bytes_val = b'this is bytes'\n",
    "\n",
    "In [69]: bytes_val\n",
    "Out[69]: b'this is bytes'\n",
    "\n",
    "In [70]: decoded = bytes_val.decode('utf8')\n",
    "\n",
    "In [71]: decoded\n",
    "Out[71]: 'this is bytes'\n",
    "```"
   ]
  },
  {
   "cell_type": "markdown",
   "metadata": {
    "heading_collapsed": true,
    "hidden": true
   },
   "source": [
    "#### 布尔值"
   ]
  },
  {
   "cell_type": "markdown",
   "metadata": {
    "hidden": true
   },
   "source": [
    "- Python中的布尔值写作`True`和`False`\n",
    "- 布尔比较值可以和`and`和`or`关键字合用。"
   ]
  },
  {
   "cell_type": "code",
   "execution_count": 63,
   "metadata": {
    "hidden": true
   },
   "outputs": [
    {
     "data": {
      "text/plain": [
       "True"
      ]
     },
     "execution_count": 63,
     "metadata": {},
     "output_type": "execute_result"
    }
   ],
   "source": [
    "True and True\n",
    "False or True"
   ]
  },
  {
   "cell_type": "markdown",
   "metadata": {
    "heading_collapsed": true,
    "hidden": true
   },
   "source": [
    "#### 类型转换"
   ]
  },
  {
   "cell_type": "markdown",
   "metadata": {
    "hidden": true
   },
   "source": [
    "- `str`、`bool`、`int`、`float`及时数据类型，又是可以将其他数据转换为这些类型的函数。"
   ]
  },
  {
   "cell_type": "markdown",
   "metadata": {
    "hidden": true
   },
   "source": [
    "```python\n",
    "In [72]: s = '3.14159'\n",
    "\n",
    "In [73]: fval = float(s)\n",
    "\n",
    "In [74]: type(fval)\n",
    "Out[74]: float\n",
    "\n",
    "In [75]: int(fval)\n",
    "Out[75]: 3\n",
    "\n",
    "In [76]: bool(fval)\n",
    "Out[76]: True\n",
    "\n",
    "In [77]: bool(0)\n",
    "Out[77]: False\n",
    "```"
   ]
  },
  {
   "cell_type": "markdown",
   "metadata": {
    "heading_collapsed": true,
    "hidden": true
   },
   "source": [
    "#### None"
   ]
  },
  {
   "cell_type": "markdown",
   "metadata": {
    "hidden": true
   },
   "source": [
    "- `None`是Python的`null`值类型，如果一个函数没有显式地返回值，则它会隐式的返回`None`。\n",
    "- `None`可以作为一个常用的函数参数默认值。\n",
    "- `None`是`NoneType`类型的唯一实例。"
   ]
  },
  {
   "cell_type": "markdown",
   "metadata": {
    "hidden": true
   },
   "source": [
    "```python\n",
    "In [77]: bool(0)\n",
    "Out[77]: False\n",
    "\n",
    "In [78]: a = None\n",
    "\n",
    "In [79]: a is None\n",
    "Out[79]: True\n",
    "\n",
    "In [80]: b = 5\n",
    "\n",
    "In [81]: b is not None\n",
    "Out[81]: True\n",
    "```"
   ]
  },
  {
   "cell_type": "code",
   "execution_count": 64,
   "metadata": {
    "hidden": true
   },
   "outputs": [],
   "source": [
    "def add_and_maybe_multiply(a, b, c=None):\n",
    "    result = a + b\n",
    "    if c is not None:\n",
    "        result = result * c\n",
    "        \n",
    "    return result"
   ]
  },
  {
   "cell_type": "code",
   "execution_count": 65,
   "metadata": {
    "hidden": true
   },
   "outputs": [
    {
     "data": {
      "text/plain": [
       "NoneType"
      ]
     },
     "execution_count": 65,
     "metadata": {},
     "output_type": "execute_result"
    }
   ],
   "source": [
    "type(None)"
   ]
  },
  {
   "cell_type": "markdown",
   "metadata": {
    "heading_collapsed": true,
    "hidden": true
   },
   "source": [
    "#### 日期和时间"
   ]
  },
  {
   "cell_type": "markdown",
   "metadata": {
    "hidden": true
   },
   "source": [
    "- `datetime`模块提供了`datatime`、`data`、`time`类型。\n",
    "- `datetime`类型包含了日期和时间信息。\n",
    "- 对于`datetime`实例，可以使用`date`和`time`方法分别获取`date`和`time`对象。\n",
    "- `strftime`方法将`datetime`转换为字符串。\n",
    "- `strptime`方法将字符串转化为`datetime`。\n",
    "- 替换`datetime`中的一些值使用`replace`方法。\n",
    "- `datetime.datetime`是不可变类型，因此每次操作之后产生的都是一个新的对象。\n",
    "- 两个不同的`datetime`对象会产生一个`datetime.timedelta`对象。"
   ]
  },
  {
   "cell_type": "code",
   "execution_count": 73,
   "metadata": {
    "hidden": true
   },
   "outputs": [
    {
     "name": "stdout",
     "output_type": "stream",
     "text": [
      "29\n",
      "30\n"
     ]
    }
   ],
   "source": [
    "from datetime import datetime, date, time\n",
    "\n",
    "dt = datetime(2011, 10, 29, 20, 30, 21)\n",
    "print(dt.day)\n",
    "print(dt.minute)"
   ]
  },
  {
   "cell_type": "code",
   "execution_count": 74,
   "metadata": {
    "hidden": true
   },
   "outputs": [
    {
     "name": "stdout",
     "output_type": "stream",
     "text": [
      "2011-10-29\n",
      "20:30:21\n"
     ]
    }
   ],
   "source": [
    "print(dt.date())\n",
    "print(dt.time())"
   ]
  },
  {
   "cell_type": "code",
   "execution_count": 75,
   "metadata": {
    "hidden": true
   },
   "outputs": [
    {
     "data": {
      "text/plain": [
       "'10/29/2011 20:30'"
      ]
     },
     "execution_count": 75,
     "metadata": {},
     "output_type": "execute_result"
    }
   ],
   "source": [
    "# strftime方法将datetime转换为字符串\n",
    "dt.strftime('%m/%d/%Y %H:%M')"
   ]
  },
  {
   "cell_type": "code",
   "execution_count": 76,
   "metadata": {
    "hidden": true
   },
   "outputs": [
    {
     "data": {
      "text/plain": [
       "datetime.datetime(2009, 10, 31, 0, 0)"
      ]
     },
     "execution_count": 76,
     "metadata": {},
     "output_type": "execute_result"
    }
   ],
   "source": [
    "# strptime将字符串转化为datetime对象\n",
    "datetime.strptime('20091031', \"%Y%m%d\")"
   ]
  },
  {
   "cell_type": "code",
   "execution_count": 77,
   "metadata": {
    "hidden": true
   },
   "outputs": [
    {
     "data": {
      "text/plain": [
       "datetime.datetime(2011, 10, 29, 20, 0)"
      ]
     },
     "execution_count": 77,
     "metadata": {},
     "output_type": "execute_result"
    }
   ],
   "source": [
    "dt.replace(minute=0, second=0)"
   ]
  },
  {
   "cell_type": "code",
   "execution_count": 79,
   "metadata": {
    "hidden": true
   },
   "outputs": [
    {
     "name": "stdout",
     "output_type": "stream",
     "text": [
      "17 days, 1:59:39\n",
      "<class 'datetime.timedelta'>\n"
     ]
    }
   ],
   "source": [
    "dt2 = datetime(2011, 11, 15, 22, 30)\n",
    "delta = dt2 - dt\n",
    "print(delta)\n",
    "print(type(delta))"
   ]
  },
  {
   "cell_type": "code",
   "execution_count": 81,
   "metadata": {
    "hidden": true
   },
   "outputs": [
    {
     "name": "stdout",
     "output_type": "stream",
     "text": [
      "<class 'datetime.datetime'> 2011-10-29 20:30:21\n",
      "<class 'datetime.datetime'> 2011-11-15 22:30:00\n"
     ]
    }
   ],
   "source": [
    "print(type(dt), dt)\n",
    "print(type(dt+delta), dt + delta)"
   ]
  },
  {
   "cell_type": "markdown",
   "metadata": {
    "hidden": true
   },
   "source": [
    "Datetime格式化详细描述\n",
    "\n",
    "|类型|描述|\n",
    "|:-|:-|\n",
    "|%Y|四位的年份|\n",
    "|%y|两位的年份|\n",
    "|%m|两位的月份\\[01,12\\]|\n",
    "|%d|两份的天数值\\[01,31\\]|\n",
    "|%H|小时值(24小时制\\[00,23\\])|\n",
    "|%I|小时值(12小时制)\\[01,12\\]|\n",
    "|%M|两位的分钟值\\[00,59\\]|\n",
    "|%S|秒值\\[00,61\\](60, 61用于区分闰秒)|\n",
    "|%w|星期值\\[0(星期天),6\\]|\n",
    "|%U|一年中第几个星期的值\\[00,53\\];星期天是每周的第一天，第一个星期天前的一周是第0个星期|\n",
    "|%W|一年中第几个星期的值\\[00,53\\];星期一是每周的第一天，第一个星期一前的一周是第0个星期|\n",
    "|%z|UTC时区偏置，格式为+HHMM或-HHMM；如果是简单时空则为空|\n",
    "|%F|%Y-%m-%d的简写(例如2012-4-18)|\n",
    "|%D|%m/%d/%y的简写(例如04/18/12)|"
   ]
  },
  {
   "cell_type": "markdown",
   "metadata": {
    "hidden": true
   },
   "source": [
    "### 控制流"
   ]
  },
  {
   "cell_type": "markdown",
   "metadata": {
    "code_folding": [],
    "heading_collapsed": true,
    "hidden": true
   },
   "source": [
    "#### if、elif和else"
   ]
  },
  {
   "cell_type": "markdown",
   "metadata": {
    "hidden": true
   },
   "source": [
    "- 使用`and`和`or`进行混合条价判断时，条件判断时从左到右的并且在`and`或`or`两侧的条件会有\"短路\"现象。"
   ]
  },
  {
   "cell_type": "code",
   "execution_count": null,
   "metadata": {
    "hidden": true
   },
   "outputs": [],
   "source": [
    "if x < 0:\n",
    "    print(\"It's negative\")"
   ]
  },
  {
   "cell_type": "code",
   "execution_count": null,
   "metadata": {
    "hidden": true
   },
   "outputs": [],
   "source": [
    "if x < 0:\n",
    "    print(\"It's negative\")\n",
    "elif x == 0:\n",
    "    print('Equal to zero')\n",
    "elif 0 < x < 5:\n",
    "    print('Positive')\n",
    "else:\n",
    "    print('Positive and larger than or equal to 5')"
   ]
  },
  {
   "cell_type": "code",
   "execution_count": null,
   "metadata": {
    "hidden": true
   },
   "outputs": [],
   "source": [
    "# c > d不会被执行\n",
    "a = 5; b = 7\n",
    "c = 8; d = 4\n",
    "if a < b or c > d:\n",
    "    print('Made it')"
   ]
  },
  {
   "cell_type": "code",
   "execution_count": 83,
   "metadata": {
    "hidden": true
   },
   "outputs": [
    {
     "data": {
      "text/plain": [
       "True"
      ]
     },
     "execution_count": 83,
     "metadata": {},
     "output_type": "execute_result"
    }
   ],
   "source": [
    "4 > 3 > 2 > 1"
   ]
  },
  {
   "cell_type": "markdown",
   "metadata": {
    "heading_collapsed": true,
    "hidden": true
   },
   "source": [
    "#### for循环"
   ]
  },
  {
   "cell_type": "markdown",
   "metadata": {
    "hidden": true
   },
   "source": [
    "- for循环用于遍历一个集合(例如列表或元组)或一个迭代器\n",
    "- continue关键字可以跳过continue后面的代码进入下一次循环\n",
    "- break关键字可以结束一个循环,只结束最内层的循环。\n",
    "- 如果集合或者迭代器的元素是一个序列(元组或列表)，则在for循环语句中可以很方便的拆包变成变量。"
   ]
  },
  {
   "cell_type": "code",
   "execution_count": 84,
   "metadata": {
    "hidden": true
   },
   "outputs": [
    {
     "name": "stdout",
     "output_type": "stream",
     "text": [
      "12\n"
     ]
    }
   ],
   "source": [
    "sequence = [1, 2, None, 4, None, 5]\n",
    "total = 0\n",
    "for value in sequence:\n",
    "    if value is None:\n",
    "        continue\n",
    "    total += value    \n",
    "print(total)"
   ]
  },
  {
   "cell_type": "code",
   "execution_count": 85,
   "metadata": {
    "hidden": true
   },
   "outputs": [
    {
     "name": "stdout",
     "output_type": "stream",
     "text": [
      "13\n"
     ]
    }
   ],
   "source": [
    "sequence = [1, 2, 0, 4, 6, 5, 2, 1]\n",
    "total_until_5 = 0\n",
    "for value in sequence:\n",
    "    if value == 5:\n",
    "        break\n",
    "    total_until_5 += value\n",
    "print(total_until_5)"
   ]
  },
  {
   "cell_type": "code",
   "execution_count": 86,
   "metadata": {
    "hidden": true
   },
   "outputs": [
    {
     "name": "stdout",
     "output_type": "stream",
     "text": [
      "(0, 0)\n",
      "(1, 0)\n",
      "(1, 1)\n",
      "(2, 0)\n",
      "(2, 1)\n",
      "(2, 2)\n",
      "(3, 0)\n",
      "(3, 1)\n",
      "(3, 2)\n",
      "(3, 3)\n"
     ]
    }
   ],
   "source": [
    "for i in range(4):\n",
    "    for j in range(4):\n",
    "        if j > i:\n",
    "            break\n",
    "        print((i,j))"
   ]
  },
  {
   "cell_type": "markdown",
   "metadata": {
    "heading_collapsed": true,
    "hidden": true
   },
   "source": [
    "#### while循环"
   ]
  },
  {
   "cell_type": "markdown",
   "metadata": {
    "hidden": true
   },
   "source": [
    "- 条件符合是一直执行代码，直到条件判断为False或者显式的以break结尾时才结束。"
   ]
  },
  {
   "cell_type": "code",
   "execution_count": 88,
   "metadata": {
    "hidden": true
   },
   "outputs": [
    {
     "name": "stdout",
     "output_type": "stream",
     "text": [
      "504\n"
     ]
    }
   ],
   "source": [
    "x = 256\n",
    "total = 0\n",
    "while x > 0:\n",
    "    if total > 500:\n",
    "        break\n",
    "    total += x\n",
    "    x = x // 2\n",
    "print(total)"
   ]
  },
  {
   "cell_type": "markdown",
   "metadata": {
    "heading_collapsed": true,
    "hidden": true
   },
   "source": [
    "#### pass"
   ]
  },
  {
   "cell_type": "markdown",
   "metadata": {
    "hidden": true
   },
   "source": [
    "- 在代码段中表示不执行任何操作(或者是作为还没有实现的代码占位符)"
   ]
  },
  {
   "cell_type": "code",
   "execution_count": null,
   "metadata": {
    "hidden": true
   },
   "outputs": [],
   "source": [
    "if x < 0:\n",
    "    print('negative!')\n",
    "elif x == 0:\n",
    "    # 在这里放点聪明的代码\n",
    "    pass\n",
    "else:\n",
    "    print('positive')"
   ]
  },
  {
   "cell_type": "markdown",
   "metadata": {
    "heading_collapsed": true,
    "hidden": true
   },
   "source": [
    "#### range"
   ]
  },
  {
   "cell_type": "markdown",
   "metadata": {
    "hidden": true
   },
   "source": [
    "- `range`函数返回一个迭代器，该迭代器产生一个等差整数序列。\n",
    "- 起始，结尾，步进均可以传递给`range`函数\n",
    "- range函数产生的整数包含起始但不包含结尾。"
   ]
  },
  {
   "cell_type": "markdown",
   "metadata": {
    "hidden": true
   },
   "source": [
    "```python\n",
    "In [91]: range(10)\n",
    "Out[91]: range(0, 10)\n",
    "\n",
    "In [92]: list(range(10))\n",
    "Out[92]: [0, 1, 2, 3, 4, 5, 6, 7, 8, 9]\n",
    "\n",
    "In [93]: list(range(0, 20, 2))\n",
    "Out[93]: [0, 2, 4, 6, 8, 10, 12, 14, 16, 18]\n",
    "\n",
    "In [94]: list(range(5, 0, -1))\n",
    "Out[94]: [5, 4, 3, 2, 1]\n",
    "```"
   ]
  },
  {
   "cell_type": "code",
   "execution_count": 89,
   "metadata": {
    "hidden": true
   },
   "outputs": [
    {
     "name": "stdout",
     "output_type": "stream",
     "text": [
      "1 2 3 4 "
     ]
    }
   ],
   "source": [
    "sequence = [1, 2, 3, 4]\n",
    "for i in range(len(sequence)):\n",
    "    val = sequence[i]\n",
    "    print(val, end=' ')"
   ]
  },
  {
   "cell_type": "code",
   "execution_count": 90,
   "metadata": {
    "hidden": true
   },
   "outputs": [
    {
     "name": "stdout",
     "output_type": "stream",
     "text": [
      "2333316668\n"
     ]
    }
   ],
   "source": [
    "sum = 0\n",
    "for i in range(100000):\n",
    "    # % 是求模操作符\n",
    "    if i % 3 == 0 or i % 5 == 0:\n",
    "        sum += i\n",
    "print(sum)"
   ]
  },
  {
   "cell_type": "markdown",
   "metadata": {
    "heading_collapsed": true,
    "hidden": true
   },
   "source": [
    "#### 三元表达式"
   ]
  },
  {
   "cell_type": "markdown",
   "metadata": {
    "hidden": true
   },
   "source": [
    "```python\n",
    "value = true-expr if condition else false-expr\n",
    "\n",
    "if condition:\n",
    "    value = true-expr\n",
    "else:\n",
    "    value = false-expr\n",
    "```"
   ]
  },
  {
   "cell_type": "code",
   "execution_count": 91,
   "metadata": {
    "hidden": true
   },
   "outputs": [
    {
     "data": {
      "text/plain": [
       "'Non-negative'"
      ]
     },
     "execution_count": 91,
     "metadata": {},
     "output_type": "execute_result"
    }
   ],
   "source": [
    "x = 5\n",
    "'Non-negative' if x>=0 else 'Negative'"
   ]
  }
 ],
 "metadata": {
  "kernelspec": {
   "display_name": "Python [conda root]",
   "language": "python",
   "name": "conda-root-py"
  },
  "language_info": {
   "codemirror_mode": {
    "name": "ipython",
    "version": 3
   },
   "file_extension": ".py",
   "mimetype": "text/x-python",
   "name": "python",
   "nbconvert_exporter": "python",
   "pygments_lexer": "ipython3",
   "version": "3.6.5"
  },
  "toc": {
   "base_numbering": 1,
   "nav_menu": {},
   "number_sections": true,
   "sideBar": true,
   "skip_h1_title": false,
   "title_cell": "Table of Contents",
   "title_sidebar": "Contents",
   "toc_cell": false,
   "toc_position": {
    "height": "calc(100% - 180px)",
    "left": "10px",
    "top": "150px",
    "width": "307.2px"
   },
   "toc_section_display": true,
   "toc_window_display": true
  }
 },
 "nbformat": 4,
 "nbformat_minor": 2
}
